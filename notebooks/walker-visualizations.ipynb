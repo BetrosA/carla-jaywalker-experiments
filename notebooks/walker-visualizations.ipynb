{
 "cells": [
  {
   "cell_type": "code",
   "execution_count": 1,
   "metadata": {},
   "outputs": [],
   "source": [
    "import pandas as pd\n",
    "import numpy as np"
   ]
  },
  {
   "cell_type": "code",
   "execution_count": 4,
   "metadata": {},
   "outputs": [
    {
     "data": {
      "text/html": [
       "<div>\n",
       "<style scoped>\n",
       "    .dataframe tbody tr th:only-of-type {\n",
       "        vertical-align: middle;\n",
       "    }\n",
       "\n",
       "    .dataframe tbody tr th {\n",
       "        vertical-align: top;\n",
       "    }\n",
       "\n",
       "    .dataframe thead th {\n",
       "        text-align: right;\n",
       "    }\n",
       "</style>\n",
       "<table border=\"1\" class=\"dataframe\">\n",
       "  <thead>\n",
       "    <tr style=\"text-align: right;\">\n",
       "      <th></th>\n",
       "      <th>episode</th>\n",
       "      <th>v_x</th>\n",
       "      <th>v_y</th>\n",
       "      <th>v_speed</th>\n",
       "      <th>w_x</th>\n",
       "      <th>w_y</th>\n",
       "      <th>w_speed</th>\n",
       "    </tr>\n",
       "  </thead>\n",
       "  <tbody>\n",
       "    <tr>\n",
       "      <th>0</th>\n",
       "      <td>1</td>\n",
       "      <td>-141.161438</td>\n",
       "      <td>-6.68539</td>\n",
       "      <td>0.411600</td>\n",
       "      <td>-113.0</td>\n",
       "      <td>-3.0</td>\n",
       "      <td>0.0</td>\n",
       "    </tr>\n",
       "    <tr>\n",
       "      <th>1</th>\n",
       "      <td>1</td>\n",
       "      <td>-141.161438</td>\n",
       "      <td>-6.68539</td>\n",
       "      <td>1.097600</td>\n",
       "      <td>-113.0</td>\n",
       "      <td>-3.0</td>\n",
       "      <td>0.0</td>\n",
       "    </tr>\n",
       "    <tr>\n",
       "      <th>2</th>\n",
       "      <td>1</td>\n",
       "      <td>-141.161438</td>\n",
       "      <td>-6.68539</td>\n",
       "      <td>1.715000</td>\n",
       "      <td>-113.0</td>\n",
       "      <td>-3.0</td>\n",
       "      <td>0.0</td>\n",
       "    </tr>\n",
       "    <tr>\n",
       "      <th>3</th>\n",
       "      <td>1</td>\n",
       "      <td>-141.161438</td>\n",
       "      <td>-6.68539</td>\n",
       "      <td>2.332400</td>\n",
       "      <td>-113.0</td>\n",
       "      <td>-3.0</td>\n",
       "      <td>0.0</td>\n",
       "    </tr>\n",
       "    <tr>\n",
       "      <th>4</th>\n",
       "      <td>1</td>\n",
       "      <td>-141.161438</td>\n",
       "      <td>-6.68539</td>\n",
       "      <td>2.949799</td>\n",
       "      <td>-113.0</td>\n",
       "      <td>-3.0</td>\n",
       "      <td>0.0</td>\n",
       "    </tr>\n",
       "  </tbody>\n",
       "</table>\n",
       "</div>"
      ],
      "text/plain": [
       "   episode         v_x      v_y   v_speed    w_x  w_y  w_speed\n",
       "0        1 -141.161438 -6.68539  0.411600 -113.0 -3.0      0.0\n",
       "1        1 -141.161438 -6.68539  1.097600 -113.0 -3.0      0.0\n",
       "2        1 -141.161438 -6.68539  1.715000 -113.0 -3.0      0.0\n",
       "3        1 -141.161438 -6.68539  2.332400 -113.0 -3.0      0.0\n",
       "4        1 -141.161438 -6.68539  2.949799 -113.0 -3.0      0.0"
      ]
     },
     "execution_count": 4,
     "metadata": {},
     "output_type": "execute_result"
    }
   ],
   "source": [
    "path = \"../logs/03-09-2022-trajectories.csv\"\n",
    "df = pd.read_csv(path)\n",
    "df.head()"
   ]
  }
 ],
 "metadata": {
  "interpreter": {
   "hash": "ba5e7ed64419bc69b5a01bf11005022932fddb50ec4291d7d695a8bda1a27bae"
  },
  "kernelspec": {
   "display_name": "Python 3.7.11 ('carla37')",
   "language": "python",
   "name": "python3"
  },
  "language_info": {
   "codemirror_mode": {
    "name": "ipython",
    "version": 3
   },
   "file_extension": ".py",
   "mimetype": "text/x-python",
   "name": "python",
   "nbconvert_exporter": "python",
   "pygments_lexer": "ipython3",
   "version": "3.7.11"
  },
  "orig_nbformat": 4
 },
 "nbformat": 4,
 "nbformat_minor": 2
}
