{
 "cells": [
  {
   "cell_type": "code",
   "execution_count": 1,
   "metadata": {},
   "outputs": [
    {
     "name": "stdout",
     "output_type": "stream",
     "text": [
      "current working dirC:\\Users\\abjawad\\Documents\\GitHub\\carla-jaywalker-experiments\n"
     ]
    }
   ],
   "source": [
    "exec(open(\"init_notebook.py\", \"r\").read())\n",
    "%load_ext autoreload"
   ]
  },
  {
   "cell_type": "code",
   "execution_count": 2,
   "metadata": {},
   "outputs": [],
   "source": [
    "import pandas as pd\n",
    "import numpy as np\n",
    "import matplotlib.pyplot as plt\n",
    "import seaborn as sns\n",
    "%matplotlib qt \n",
    "# %matplotlib inline\n",
    "\n",
    "from analytics.EpisodeParserCogMod import EpisodeParserCogMod\n",
    "from analysis.Histogram import Histogram\n",
    "from analysis.ScatterPlot import ScatterPlot\n",
    "from analysis.Plot import Plot"
   ]
  },
  {
   "cell_type": "code",
   "execution_count": 3,
   "metadata": {},
   "outputs": [
    {
     "name": "stderr",
     "output_type": "stream",
     "text": [
      "C:\\Users\\abjawad\\Documents\\GitHub\\carla-jaywalker-experiments\\analytics\\EpisodeParserCogMod.py:51: SettingWithCopyWarning: \n",
      "A value is trying to be set on a copy of a slice from a DataFrame.\n",
      "Try using .loc[row_indexer,col_indexer] = value instead\n",
      "\n",
      "See the caveats in the documentation: https://pandas.pydata.org/pandas-docs/stable/user_guide/indexing.html#returning-a-view-versus-a-copy\n",
      "  values['frame'] = values['frame'] - first_val\n"
     ]
    }
   ],
   "source": [
    "def createEpisodePerser(path):\n",
    "    df = pd.read_csv(path)\n",
    "    episodeParser = EpisodeParserCogMod(df)\n",
    "    return episodeParser\n",
    "\n",
    "path1 = 'logs/03-14-2022-driver1.csv'\n",
    "path2 = 'logs/03-14-2022-driver2.csv'\n",
    "path3 = 'logs/03-14-2022-driver3.csv'\n",
    "path4 = 'logs/03-15-2022-driver4.csv'\n",
    "path5 = 'logs/03-15-2022-driver5.csv'\n",
    "path6 = 'logs/03-15-2022-driver6.csv'\n",
    "path7 = 'logs/03-15-2022-driver7.csv'\n",
    "path8 = 'logs/03-15-2022-driver8.csv'\n",
    "path9 = 'logs/03-15-2022-driver9.csv'\n",
    "\n",
    "path1_servers = {'lm': 3, 'cc': 3}\n",
    "path2_servers = {'lm': 2, 'cc': 1}\n",
    "path3_servers = {'lm': 1, 'cc': 1}\n",
    "path4_servers = {'lm': 2, 'cc': 2}\n",
    "path5_servers = {'lm': 1, 'cc': 2}\n",
    "path6_servers = {'lm': 3, 'cc': 1}\n",
    "path7_servers = {'lm': 1, 'cc': 3}\n",
    "\n",
    "episode_parser_d1 = createEpisodePerser(path1)\n",
    "episode_parser_d2 = createEpisodePerser(path2)\n",
    "episode_parser_d3 = createEpisodePerser(path3)\n",
    "episode_parser_d4 = createEpisodePerser(path4)\n",
    "episode_parser_d5 = createEpisodePerser(path5)\n",
    "episode_parser_d6 = createEpisodePerser(path6)\n",
    "episode_parser_d7 = createEpisodePerser(path7)\n",
    "episode_parser_d8 = createEpisodePerser(path8)\n",
    "episode_parser_d9 = createEpisodePerser(path9)"
   ]
  },
  {
   "cell_type": "code",
   "execution_count": 19,
   "metadata": {},
   "outputs": [],
   "source": [
    "def plot_min_distance_histogram(episodeParser):\n",
    "    x = []\n",
    "    y = []\n",
    "    for key in episodeParser.validEpisodeIDs:\n",
    "        dataframe = episodeParser.episodeDf[key]\n",
    "        min_distance = dataframe['distance'].min()\n",
    "        x.append(key)\n",
    "        y.append(min_distance)\n",
    "        pass\n",
    "    df_dict = {'episode': x, 'distance': y}\n",
    "    df = pd.DataFrame.from_dict(df_dict)\n",
    "    Histogram.plotMetricsDF(df, 'distance', 'distance', bins=30)\n",
    "    pass\n",
    "\n",
    "def plot_normalized_min_distance(episodeParser):\n",
    "    x = []\n",
    "    y = []\n",
    "    for key in episodeParser.validEpisodeIDs:\n",
    "        dataframe = episodeParser.episodeDf[key]\n",
    "        min_distance = dataframe['distance'].min()\n",
    "        x.append(key)\n",
    "        y.append(min_distance)\n",
    "        pass\n",
    "    df_dict = {'episode': x, 'distance': y}\n",
    "    df = pd.DataFrame.from_dict(df_dict)\n",
    "    Histogram.plotNormalizedMetricsDF(df, 'distance', 'distance', bins=30)\n",
    "    pass\n",
    "\n",
    "def plot_displot(episodeParser):\n",
    "    x = []\n",
    "    y = []\n",
    "    for key in episodeParser.validEpisodeIDs:\n",
    "        dataframe = episodeParser.episodeDf[key]\n",
    "        min_distance = dataframe['distance'].min()\n",
    "        x.append(key)\n",
    "        y.append(min_distance)\n",
    "        pass\n",
    "    df_dict = {'episode': x, 'distance': y}\n",
    "    df = pd.DataFrame.from_dict(df_dict)\n",
    "    sns.displot(df, x = 'distance', bins=10)\n",
    "    plt.axvline(x=df.distance.mean(), color='red')\n",
    "    pass\n",
    "\n",
    "def plot_min_distance_together(episode_parsers, labels):\n",
    "    id = 0\n",
    "    df = pd.DataFrame()\n",
    "    for episode_parser in episode_parsers:\n",
    "        id += 1\n",
    "        x = []\n",
    "        y = []\n",
    "        for key in episode_parser.validEpisodeIDs:\n",
    "            dataframe = episode_parser.episodeDf[key]\n",
    "            min_distance = dataframe['distance'].min()\n",
    "            x.append(key)\n",
    "            y.append(min_distance)\n",
    "            pass\n",
    "        df_dict = {'episode': id, 'distance': y}\n",
    "        df_temp = pd.DataFrame.from_dict(df_dict)\n",
    "        df = df.append(df_temp)\n",
    "\n",
    "        # print(df.size)\n",
    "        \n",
    "    print(df.size)\n",
    "    g = sns.FacetGrid(df, hue=\"episode\", height=6, aspect=1.5)\n",
    "    g = g.map(sns.distplot, \"distance\",  hist=False, rug=True)\n",
    "    plt.legend(labels=labels)\n",
    "    plt.show()\n",
    "\n",
    "\n",
    "def box_plot(episode_parsers, labels):\n",
    "\n",
    "    df = pd.DataFrame()\n",
    "    for i in range(len(episode_parsers)):\n",
    "        episode_parser = episode_parsers[i]\n",
    "        label = labels[i]\n",
    "        x = []\n",
    "        y = []\n",
    "        for key in episode_parser.validEpisodeIDs:\n",
    "            dataframe = episode_parser.episodeDf[key]\n",
    "            min_distance = dataframe['distance'].min()\n",
    "            x.append(key)\n",
    "            y.append(min_distance)\n",
    "            pass\n",
    "        df_dict = {'server': label, 'distance': y}\n",
    "        df_temp = pd.DataFrame.from_dict(df_dict)\n",
    "        df = df.append(df_temp)\n",
    "        # print(df.size) \n",
    "    \n",
    "    print(df.size)\n",
    "    sns.boxplot(x=\"server\", y=\"distance\", data=df)\n",
    "    pass\n",
    "\n",
    "\n",
    "\n"
   ]
  },
  {
   "cell_type": "code",
   "execution_count": 21,
   "metadata": {},
   "outputs": [
    {
     "name": "stdout",
     "output_type": "stream",
     "text": [
      "458\n",
      "312\n"
     ]
    },
    {
     "name": "stderr",
     "output_type": "stream",
     "text": [
      "C:\\Users\\abjawad\\.conda\\envs\\carla-vehicle\\lib\\site-packages\\seaborn\\distributions.py:2619: FutureWarning: `distplot` is a deprecated function and will be removed in a future version. Please adapt your code to use either `displot` (a figure-level function with similar flexibility) or `kdeplot` (an axes-level function for kernel density plots).\n",
      "  warnings.warn(msg, FutureWarning)\n",
      "C:\\Users\\abjawad\\.conda\\envs\\carla-vehicle\\lib\\site-packages\\seaborn\\distributions.py:2103: FutureWarning: The `axis` variable is no longer used and will be removed. Instead, assign variables directly to `x` or `y`.\n",
      "  warnings.warn(msg, FutureWarning)\n",
      "C:\\Users\\abjawad\\.conda\\envs\\carla-vehicle\\lib\\site-packages\\seaborn\\distributions.py:2619: FutureWarning: `distplot` is a deprecated function and will be removed in a future version. Please adapt your code to use either `displot` (a figure-level function with similar flexibility) or `kdeplot` (an axes-level function for kernel density plots).\n",
      "  warnings.warn(msg, FutureWarning)\n",
      "C:\\Users\\abjawad\\.conda\\envs\\carla-vehicle\\lib\\site-packages\\seaborn\\distributions.py:2103: FutureWarning: The `axis` variable is no longer used and will be removed. Instead, assign variables directly to `x` or `y`.\n",
      "  warnings.warn(msg, FutureWarning)\n",
      "C:\\Users\\abjawad\\.conda\\envs\\carla-vehicle\\lib\\site-packages\\seaborn\\distributions.py:2619: FutureWarning: `distplot` is a deprecated function and will be removed in a future version. Please adapt your code to use either `displot` (a figure-level function with similar flexibility) or `kdeplot` (an axes-level function for kernel density plots).\n",
      "  warnings.warn(msg, FutureWarning)\n",
      "C:\\Users\\abjawad\\.conda\\envs\\carla-vehicle\\lib\\site-packages\\seaborn\\distributions.py:2103: FutureWarning: The `axis` variable is no longer used and will be removed. Instead, assign variables directly to `x` or `y`.\n",
      "  warnings.warn(msg, FutureWarning)\n",
      "C:\\Users\\abjawad\\.conda\\envs\\carla-vehicle\\lib\\site-packages\\seaborn\\distributions.py:2619: FutureWarning: `distplot` is a deprecated function and will be removed in a future version. Please adapt your code to use either `displot` (a figure-level function with similar flexibility) or `kdeplot` (an axes-level function for kernel density plots).\n",
      "  warnings.warn(msg, FutureWarning)\n",
      "C:\\Users\\abjawad\\.conda\\envs\\carla-vehicle\\lib\\site-packages\\seaborn\\distributions.py:2103: FutureWarning: The `axis` variable is no longer used and will be removed. Instead, assign variables directly to `x` or `y`.\n",
      "  warnings.warn(msg, FutureWarning)\n",
      "C:\\Users\\abjawad\\.conda\\envs\\carla-vehicle\\lib\\site-packages\\seaborn\\distributions.py:2619: FutureWarning: `distplot` is a deprecated function and will be removed in a future version. Please adapt your code to use either `displot` (a figure-level function with similar flexibility) or `kdeplot` (an axes-level function for kernel density plots).\n",
      "  warnings.warn(msg, FutureWarning)\n",
      "C:\\Users\\abjawad\\.conda\\envs\\carla-vehicle\\lib\\site-packages\\seaborn\\distributions.py:2103: FutureWarning: The `axis` variable is no longer used and will be removed. Instead, assign variables directly to `x` or `y`.\n",
      "  warnings.warn(msg, FutureWarning)\n",
      "C:\\Users\\abjawad\\.conda\\envs\\carla-vehicle\\lib\\site-packages\\seaborn\\distributions.py:2619: FutureWarning: `distplot` is a deprecated function and will be removed in a future version. Please adapt your code to use either `displot` (a figure-level function with similar flexibility) or `kdeplot` (an axes-level function for kernel density plots).\n",
      "  warnings.warn(msg, FutureWarning)\n",
      "C:\\Users\\abjawad\\.conda\\envs\\carla-vehicle\\lib\\site-packages\\seaborn\\distributions.py:2103: FutureWarning: The `axis` variable is no longer used and will be removed. Instead, assign variables directly to `x` or `y`.\n",
      "  warnings.warn(msg, FutureWarning)\n",
      "C:\\Users\\abjawad\\.conda\\envs\\carla-vehicle\\lib\\site-packages\\seaborn\\distributions.py:2619: FutureWarning: `distplot` is a deprecated function and will be removed in a future version. Please adapt your code to use either `displot` (a figure-level function with similar flexibility) or `kdeplot` (an axes-level function for kernel density plots).\n",
      "  warnings.warn(msg, FutureWarning)\n",
      "C:\\Users\\abjawad\\.conda\\envs\\carla-vehicle\\lib\\site-packages\\seaborn\\distributions.py:2103: FutureWarning: The `axis` variable is no longer used and will be removed. Instead, assign variables directly to `x` or `y`.\n",
      "  warnings.warn(msg, FutureWarning)\n"
     ]
    },
    {
     "name": "stdout",
     "output_type": "stream",
     "text": [
      "338\n",
      "360\n"
     ]
    },
    {
     "name": "stderr",
     "output_type": "stream",
     "text": [
      "C:\\Users\\abjawad\\.conda\\envs\\carla-vehicle\\lib\\site-packages\\seaborn\\distributions.py:2619: FutureWarning: `distplot` is a deprecated function and will be removed in a future version. Please adapt your code to use either `displot` (a figure-level function with similar flexibility) or `kdeplot` (an axes-level function for kernel density plots).\n",
      "  warnings.warn(msg, FutureWarning)\n",
      "C:\\Users\\abjawad\\.conda\\envs\\carla-vehicle\\lib\\site-packages\\seaborn\\distributions.py:2103: FutureWarning: The `axis` variable is no longer used and will be removed. Instead, assign variables directly to `x` or `y`.\n",
      "  warnings.warn(msg, FutureWarning)\n",
      "C:\\Users\\abjawad\\.conda\\envs\\carla-vehicle\\lib\\site-packages\\seaborn\\distributions.py:2619: FutureWarning: `distplot` is a deprecated function and will be removed in a future version. Please adapt your code to use either `displot` (a figure-level function with similar flexibility) or `kdeplot` (an axes-level function for kernel density plots).\n",
      "  warnings.warn(msg, FutureWarning)\n",
      "C:\\Users\\abjawad\\.conda\\envs\\carla-vehicle\\lib\\site-packages\\seaborn\\distributions.py:2103: FutureWarning: The `axis` variable is no longer used and will be removed. Instead, assign variables directly to `x` or `y`.\n",
      "  warnings.warn(msg, FutureWarning)\n"
     ]
    }
   ],
   "source": [
    "# plot_min_distance_histogram(episode_parser_d1)\n",
    "# plot_min_distance_histogram(episode_parser_d2)\n",
    "# plot_min_distance_histogram(episode_parser_d3)\n",
    "# plot_min_distance_histogram(episode_parser_d4)\n",
    "\n",
    "# plot_displot(episode_parser_d2)\n",
    "episodes = [episode_parser_d1, episode_parser_d2, episode_parser_d3, episode_parser_d4, \n",
    "            episode_parser_d5, episode_parser_d6, episode_parser_d7, episode_parser_d8,\n",
    "            episode_parser_d9]\n",
    "labels = [\"3, 3\", \"2, 1\", \"1, 1\", \"2, 2\", \"1, 2\", \"3, 1\", \"1, 3\", \"3, 2\", \"2, 3\"]\n",
    "# box_plot(episodes, labels)\n",
    "\n",
    "group_1 = [episode_parser_d3, episode_parser_d4, episode_parser_d1]\n",
    "label_1 = [\"1, 1\", \"2, 2\", \"3, 3\"]\n",
    "plot_min_distance_together(group_1, label_1)\n",
    "\n",
    "group_2 = [episode_parser_d2, episode_parser_d5]\n",
    "label_2 = [\"2, 1\", \"1, 2\"]\n",
    "plot_min_distance_together(group_2, label_2)\n",
    "\n",
    "group_3 = [episode_parser_d6, episode_parser_d7]\n",
    "label_3 = [\"3, 1\", \"1, 3\"]\n",
    "plot_min_distance_together(group_3, label_3)\n",
    "\n",
    "group_4 = [episode_parser_d8, episode_parser_d9]\n",
    "label_4 = [\"3, 2\", \"2, 3\"]\n",
    "plot_min_distance_together(group_4, label_4)\n",
    "\n",
    "\n",
    "\n",
    "# plot_min_distance_together(episodes, labels)\n",
    "# plot_min_distance_together([episode_parser_d1, episode_parser_d3])"
   ]
  },
  {
   "cell_type": "code",
   "execution_count": null,
   "metadata": {},
   "outputs": [],
   "source": []
  },
  {
   "cell_type": "code",
   "execution_count": null,
   "metadata": {},
   "outputs": [],
   "source": [
    "# for key, values in episodeParser.episodeDf.items():\n",
    "#     values.sort_values(by=['frame'], inplace=False)\n",
    "#     print(values['frame'].il\n",
    "# oc[0])\n",
    "#     first_val = values['frame'].iloc[0]\n",
    "#     values['frame'] = values['frame'] - first_val\n",
    "#     print(values['frame'].iloc[0])\n",
    "\n",
    "\n",
    "\n",
    "# plt.figure(figsize=(10,6))\n",
    "# for key, value in episodeParser.episodeDf.items():\n",
    "#     plt.plot(value['distance'], value['a_speed'])\n",
    "# plt.show()"
   ]
  },
  {
   "cell_type": "code",
   "execution_count": null,
   "metadata": {},
   "outputs": [],
   "source": [
    "\n",
    "# for key, value in episodeParser.episodeDf.items():\n",
    "#     plt.figure(figsize=(10,6))\n",
    "#     # plt.plot(value['frame'], value['c_speed'], label='speed')\n",
    "#     plt.plot(value['frame'], value['c_steer'], label='steer')\n",
    "#     plt.plot(value['frame'], value['c_throttle'], label='throttle')\n",
    "#     plt.plot(value['frame'], value['c_brake'], label='brake')\n",
    "#     plt.legend()\n",
    "#     plt.show()"
   ]
  },
  {
   "cell_type": "code",
   "execution_count": null,
   "metadata": {},
   "outputs": [],
   "source": []
  }
 ],
 "metadata": {
  "interpreter": {
   "hash": "1aaa8676afaf8bbb84795e91d4b54e7b04f0fcccbc4fb9920c4701ee229306ed"
  },
  "kernelspec": {
   "display_name": "Python 3.7.11 ('carla-vehicle')",
   "language": "python",
   "name": "python3"
  },
  "language_info": {
   "codemirror_mode": {
    "name": "ipython",
    "version": 3
   },
   "file_extension": ".py",
   "mimetype": "text/x-python",
   "name": "python",
   "nbconvert_exporter": "python",
   "pygments_lexer": "ipython3",
   "version": "3.7.11"
  },
  "orig_nbformat": 4
 },
 "nbformat": 4,
 "nbformat_minor": 2
}
